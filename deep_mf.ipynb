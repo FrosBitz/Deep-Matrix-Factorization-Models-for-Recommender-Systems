{
 "cells": [
  {
   "cell_type": "code",
   "execution_count": 2,
   "id": "dcacabd1",
   "metadata": {},
   "outputs": [],
   "source": [
    "import numpy as np\n",
    "import pandas as pd\n",
    "import tensorflow as tf\n",
    "from tensorflow.keras.models import Model\n",
    "from tensorflow.keras.layers import Input, Dense, ReLU, Dot, Lambda, Embedding, Flatten\n",
    "from tensorflow.keras.utils import plot_model\n",
    "import tensorflow.keras.backend as K\n",
    "import matplotlib.pyplot as plt"
   ]
  },
  {
   "cell_type": "markdown",
   "id": "7f7a818c",
   "metadata": {},
   "source": [
    "## Setup Model Params"
   ]
  },
  {
   "cell_type": "code",
   "execution_count": 3,
   "id": "53084903",
   "metadata": {},
   "outputs": [],
   "source": [
    "MAX_RATING = 5.0\n",
    "MU = 1.0e-6\n",
    "N_USERS = 1000\n",
    "N_MOVIES = 1000\n",
    "\n",
    "np.random.seed(42)"
   ]
  },
  {
   "cell_type": "markdown",
   "id": "7409ef53",
   "metadata": {},
   "source": [
    "## Prepare the Data ##"
   ]
  },
  {
   "cell_type": "code",
   "execution_count": 4,
   "id": "934d2343",
   "metadata": {},
   "outputs": [],
   "source": [
    "#load data\n",
    "data = pd.read_csv('data/ratings.csv')"
   ]
  },
  {
   "cell_type": "code",
   "execution_count": 4,
   "id": "1b9cb3fb",
   "metadata": {},
   "outputs": [
    {
     "data": {
      "text/html": [
       "<div>\n",
       "<style scoped>\n",
       "    .dataframe tbody tr th:only-of-type {\n",
       "        vertical-align: middle;\n",
       "    }\n",
       "\n",
       "    .dataframe tbody tr th {\n",
       "        vertical-align: top;\n",
       "    }\n",
       "\n",
       "    .dataframe thead th {\n",
       "        text-align: right;\n",
       "    }\n",
       "</style>\n",
       "<table border=\"1\" class=\"dataframe\">\n",
       "  <thead>\n",
       "    <tr style=\"text-align: right;\">\n",
       "      <th></th>\n",
       "      <th>userId</th>\n",
       "      <th>movieId</th>\n",
       "      <th>rating</th>\n",
       "      <th>timestamp</th>\n",
       "    </tr>\n",
       "  </thead>\n",
       "  <tbody>\n",
       "    <tr>\n",
       "      <th>0</th>\n",
       "      <td>1</td>\n",
       "      <td>17</td>\n",
       "      <td>4.0</td>\n",
       "      <td>944249077</td>\n",
       "    </tr>\n",
       "    <tr>\n",
       "      <th>1</th>\n",
       "      <td>1</td>\n",
       "      <td>25</td>\n",
       "      <td>1.0</td>\n",
       "      <td>944250228</td>\n",
       "    </tr>\n",
       "    <tr>\n",
       "      <th>2</th>\n",
       "      <td>1</td>\n",
       "      <td>29</td>\n",
       "      <td>2.0</td>\n",
       "      <td>943230976</td>\n",
       "    </tr>\n",
       "    <tr>\n",
       "      <th>3</th>\n",
       "      <td>1</td>\n",
       "      <td>30</td>\n",
       "      <td>5.0</td>\n",
       "      <td>944249077</td>\n",
       "    </tr>\n",
       "    <tr>\n",
       "      <th>4</th>\n",
       "      <td>1</td>\n",
       "      <td>32</td>\n",
       "      <td>5.0</td>\n",
       "      <td>943228858</td>\n",
       "    </tr>\n",
       "  </tbody>\n",
       "</table>\n",
       "</div>"
      ],
      "text/plain": [
       "   userId  movieId  rating  timestamp\n",
       "0       1       17     4.0  944249077\n",
       "1       1       25     1.0  944250228\n",
       "2       1       29     2.0  943230976\n",
       "3       1       30     5.0  944249077\n",
       "4       1       32     5.0  943228858"
      ]
     },
     "execution_count": 4,
     "metadata": {},
     "output_type": "execute_result"
    }
   ],
   "source": [
    "data.head()"
   ]
  },
  {
   "cell_type": "code",
   "execution_count": 5,
   "id": "a0611d5e",
   "metadata": {},
   "outputs": [],
   "source": [
    "user_counts = data['userId'].value_counts()\n",
    "top_users = user_counts.head(N_USERS).index\n",
    "data_sub = data[data['userId'].isin(top_users)]\n",
    "\n",
    "movie_counts = data_sub['movieId'].value_counts()\n",
    "top_movies = movie_counts.head(N_MOVIES).index\n",
    "data_sub = data_sub[data_sub['movieId'].isin(top_movies)].copy()\n",
    "\n",
    "user_index = pd.Index(sorted(data_sub['userId'].unique()))\n",
    "movie_index = pd.Index(sorted(data_sub['movieId'].unique()))\n",
    "user_id_to_idx = {u: i for i, u in enumerate(user_index)}\n",
    "movie_id_to_idx = {m: i for i, m in enumerate(movie_index)}\n",
    "data_sub['user_idx'] = data_sub['userId'].map(user_id_to_idx).astype('int32')\n",
    "data_sub['movie_idx'] = data_sub['movieId'].map(movie_id_to_idx).astype('int32')\n",
    "\n",
    "Y_df = (\n",
    "    data_sub\n",
    "    .pivot_table(index='userId', columns='movieId', values='rating', fill_value=0)\n",
    "    .sort_index()\n",
    "    .sort_index(axis=1)\n",
    ")\n",
    "\n",
    "num_users = len(user_index)\n",
    "num_items = len(movie_index)"
   ]
  },
  {
   "cell_type": "code",
   "execution_count": 6,
   "id": "4f3227a6",
   "metadata": {},
   "outputs": [
    {
     "data": {
      "text/html": [
       "<div>\n",
       "<style scoped>\n",
       "    .dataframe tbody tr th:only-of-type {\n",
       "        vertical-align: middle;\n",
       "    }\n",
       "\n",
       "    .dataframe tbody tr th {\n",
       "        vertical-align: top;\n",
       "    }\n",
       "\n",
       "    .dataframe thead th {\n",
       "        text-align: right;\n",
       "    }\n",
       "</style>\n",
       "<table border=\"1\" class=\"dataframe\">\n",
       "  <thead>\n",
       "    <tr style=\"text-align: right;\">\n",
       "      <th>movieId</th>\n",
       "      <th>1</th>\n",
       "      <th>2</th>\n",
       "      <th>6</th>\n",
       "      <th>10</th>\n",
       "      <th>11</th>\n",
       "      <th>16</th>\n",
       "      <th>19</th>\n",
       "      <th>21</th>\n",
       "      <th>25</th>\n",
       "      <th>32</th>\n",
       "      <th>...</th>\n",
       "      <th>134853</th>\n",
       "      <th>139385</th>\n",
       "      <th>139644</th>\n",
       "      <th>142488</th>\n",
       "      <th>148626</th>\n",
       "      <th>164179</th>\n",
       "      <th>166528</th>\n",
       "      <th>168250</th>\n",
       "      <th>168252</th>\n",
       "      <th>176371</th>\n",
       "    </tr>\n",
       "    <tr>\n",
       "      <th>userId</th>\n",
       "      <th></th>\n",
       "      <th></th>\n",
       "      <th></th>\n",
       "      <th></th>\n",
       "      <th></th>\n",
       "      <th></th>\n",
       "      <th></th>\n",
       "      <th></th>\n",
       "      <th></th>\n",
       "      <th></th>\n",
       "      <th></th>\n",
       "      <th></th>\n",
       "      <th></th>\n",
       "      <th></th>\n",
       "      <th></th>\n",
       "      <th></th>\n",
       "      <th></th>\n",
       "      <th></th>\n",
       "      <th></th>\n",
       "      <th></th>\n",
       "      <th></th>\n",
       "    </tr>\n",
       "  </thead>\n",
       "  <tbody>\n",
       "    <tr>\n",
       "      <th>28</th>\n",
       "      <td>4.0</td>\n",
       "      <td>3.0</td>\n",
       "      <td>3.0</td>\n",
       "      <td>3.0</td>\n",
       "      <td>5.0</td>\n",
       "      <td>3.0</td>\n",
       "      <td>0.0</td>\n",
       "      <td>4.0</td>\n",
       "      <td>3.0</td>\n",
       "      <td>5.0</td>\n",
       "      <td>...</td>\n",
       "      <td>4.5</td>\n",
       "      <td>5.0</td>\n",
       "      <td>4.5</td>\n",
       "      <td>5.0</td>\n",
       "      <td>5.0</td>\n",
       "      <td>4.0</td>\n",
       "      <td>4.0</td>\n",
       "      <td>0.0</td>\n",
       "      <td>4.0</td>\n",
       "      <td>5.0</td>\n",
       "    </tr>\n",
       "    <tr>\n",
       "      <th>188</th>\n",
       "      <td>4.0</td>\n",
       "      <td>4.0</td>\n",
       "      <td>5.0</td>\n",
       "      <td>0.0</td>\n",
       "      <td>3.0</td>\n",
       "      <td>5.0</td>\n",
       "      <td>3.5</td>\n",
       "      <td>4.5</td>\n",
       "      <td>2.5</td>\n",
       "      <td>5.0</td>\n",
       "      <td>...</td>\n",
       "      <td>0.0</td>\n",
       "      <td>0.0</td>\n",
       "      <td>0.0</td>\n",
       "      <td>0.0</td>\n",
       "      <td>0.0</td>\n",
       "      <td>0.0</td>\n",
       "      <td>0.0</td>\n",
       "      <td>0.0</td>\n",
       "      <td>0.0</td>\n",
       "      <td>0.0</td>\n",
       "    </tr>\n",
       "    <tr>\n",
       "      <th>265</th>\n",
       "      <td>5.0</td>\n",
       "      <td>4.0</td>\n",
       "      <td>0.0</td>\n",
       "      <td>4.0</td>\n",
       "      <td>0.0</td>\n",
       "      <td>4.0</td>\n",
       "      <td>0.0</td>\n",
       "      <td>3.5</td>\n",
       "      <td>0.0</td>\n",
       "      <td>5.0</td>\n",
       "      <td>...</td>\n",
       "      <td>0.0</td>\n",
       "      <td>2.5</td>\n",
       "      <td>3.5</td>\n",
       "      <td>3.5</td>\n",
       "      <td>5.0</td>\n",
       "      <td>5.0</td>\n",
       "      <td>1.5</td>\n",
       "      <td>4.0</td>\n",
       "      <td>4.5</td>\n",
       "      <td>0.0</td>\n",
       "    </tr>\n",
       "    <tr>\n",
       "      <th>1048</th>\n",
       "      <td>4.0</td>\n",
       "      <td>0.0</td>\n",
       "      <td>3.0</td>\n",
       "      <td>0.0</td>\n",
       "      <td>0.0</td>\n",
       "      <td>0.0</td>\n",
       "      <td>0.0</td>\n",
       "      <td>0.0</td>\n",
       "      <td>3.5</td>\n",
       "      <td>5.0</td>\n",
       "      <td>...</td>\n",
       "      <td>5.0</td>\n",
       "      <td>4.0</td>\n",
       "      <td>0.0</td>\n",
       "      <td>0.0</td>\n",
       "      <td>3.0</td>\n",
       "      <td>3.5</td>\n",
       "      <td>3.0</td>\n",
       "      <td>4.5</td>\n",
       "      <td>3.5</td>\n",
       "      <td>4.0</td>\n",
       "    </tr>\n",
       "    <tr>\n",
       "      <th>1411</th>\n",
       "      <td>4.0</td>\n",
       "      <td>3.5</td>\n",
       "      <td>4.0</td>\n",
       "      <td>3.5</td>\n",
       "      <td>3.5</td>\n",
       "      <td>3.5</td>\n",
       "      <td>0.0</td>\n",
       "      <td>3.5</td>\n",
       "      <td>3.0</td>\n",
       "      <td>4.5</td>\n",
       "      <td>...</td>\n",
       "      <td>4.5</td>\n",
       "      <td>0.0</td>\n",
       "      <td>0.0</td>\n",
       "      <td>0.0</td>\n",
       "      <td>0.0</td>\n",
       "      <td>0.0</td>\n",
       "      <td>0.0</td>\n",
       "      <td>0.0</td>\n",
       "      <td>0.0</td>\n",
       "      <td>0.0</td>\n",
       "    </tr>\n",
       "  </tbody>\n",
       "</table>\n",
       "<p>5 rows × 1000 columns</p>\n",
       "</div>"
      ],
      "text/plain": [
       "movieId  1       2       6       10      11      16      19      21      \\\n",
       "userId                                                                    \n",
       "28          4.0     3.0     3.0     3.0     5.0     3.0     0.0     4.0   \n",
       "188         4.0     4.0     5.0     0.0     3.0     5.0     3.5     4.5   \n",
       "265         5.0     4.0     0.0     4.0     0.0     4.0     0.0     3.5   \n",
       "1048        4.0     0.0     3.0     0.0     0.0     0.0     0.0     0.0   \n",
       "1411        4.0     3.5     4.0     3.5     3.5     3.5     0.0     3.5   \n",
       "\n",
       "movieId  25      32      ...  134853  139385  139644  142488  148626  164179  \\\n",
       "userId                   ...                                                   \n",
       "28          3.0     5.0  ...     4.5     5.0     4.5     5.0     5.0     4.0   \n",
       "188         2.5     5.0  ...     0.0     0.0     0.0     0.0     0.0     0.0   \n",
       "265         0.0     5.0  ...     0.0     2.5     3.5     3.5     5.0     5.0   \n",
       "1048        3.5     5.0  ...     5.0     4.0     0.0     0.0     3.0     3.5   \n",
       "1411        3.0     4.5  ...     4.5     0.0     0.0     0.0     0.0     0.0   \n",
       "\n",
       "movieId  166528  168250  168252  176371  \n",
       "userId                                   \n",
       "28          4.0     0.0     4.0     5.0  \n",
       "188         0.0     0.0     0.0     0.0  \n",
       "265         1.5     4.0     4.5     0.0  \n",
       "1048        3.0     4.5     3.5     4.0  \n",
       "1411        0.0     0.0     0.0     0.0  \n",
       "\n",
       "[5 rows x 1000 columns]"
      ]
     },
     "execution_count": 6,
     "metadata": {},
     "output_type": "execute_result"
    }
   ],
   "source": [
    "Y_df.head()"
   ]
  },
  {
   "cell_type": "markdown",
   "id": "65a5c9a2",
   "metadata": {},
   "source": [
    "## Prepare the trainable matrix"
   ]
  },
  {
   "cell_type": "code",
   "execution_count": 7,
   "id": "d27c0b62",
   "metadata": {},
   "outputs": [],
   "source": [
    "Y = Y_df.to_numpy(dtype=np.float32)\n",
    "\n",
    "# Explicit positive samples\n",
    "user_idx_pos, item_idx_pos = np.nonzero(Y)       # all ratings > 0\n",
    "y_explicit = Y[user_idx_pos, item_idx_pos]       # labels\n",
    "\n",
    "# Implicit negative samples\n",
    "neg_ratio = 1.0  # number of negatives per positive\n",
    "zero_positions = np.argwhere(Y == 0)\n",
    "num_neg = int(len(user_idx_pos) * neg_ratio)\n",
    "num_neg = min(num_neg, len(zero_positions)) \n",
    "neg_sample_idx = np.random.choice(len(zero_positions), num_neg, replace=False)\n",
    "user_idx_neg, item_idx_neg = zero_positions[neg_sample_idx].T\n",
    "y_implicit = np.zeros(len(user_idx_neg))          # label = 0 for negatives\n",
    "\n",
    "# Combine positive and negative samples\n",
    "user_idx_all = np.concatenate([user_idx_pos, user_idx_neg])\n",
    "item_idx_all = np.concatenate([item_idx_pos, item_idx_neg])\n",
    "y_all = np.concatenate([y_explicit, y_implicit])\n",
    "\n",
    "# Prepare the trainable matrix\n",
    "X_user_all = Y[user_idx_all, :]          # full user rows\n",
    "X_item_all = Y[:, item_idx_all].T        # full item columns"
   ]
  },
  {
   "cell_type": "code",
   "execution_count": 8,
   "id": "09f1325e",
   "metadata": {},
   "outputs": [
    {
     "data": {
      "text/plain": [
       "array([[4. , 3. , 3. , ..., 0. , 4. , 5. ],\n",
       "       [4. , 3. , 3. , ..., 0. , 4. , 5. ],\n",
       "       [4. , 3. , 3. , ..., 0. , 4. , 5. ],\n",
       "       ...,\n",
       "       [4. , 4. , 2. , ..., 4. , 4. , 0. ],\n",
       "       [4.5, 0. , 3.5, ..., 0. , 0. , 0. ],\n",
       "       [2.5, 3. , 0. , ..., 3. , 0. , 3. ]], dtype=float32)"
      ]
     },
     "execution_count": 8,
     "metadata": {},
     "output_type": "execute_result"
    }
   ],
   "source": [
    "X_user_all "
   ]
  },
  {
   "cell_type": "code",
   "execution_count": 9,
   "id": "90b48cf2",
   "metadata": {},
   "outputs": [],
   "source": [
    "# Shuffle the data\n",
    "perm = np.random.permutation(len(y_all))\n",
    "X_user_all = X_user_all[perm]\n",
    "X_item_all = X_item_all[perm]\n",
    "y_all = y_all[perm]"
   ]
  },
  {
   "cell_type": "code",
   "execution_count": 9,
   "id": "138e430e",
   "metadata": {},
   "outputs": [
    {
     "data": {
      "text/plain": [
       "((1000000, 1000), (1000000, 1000), (1000000,))"
      ]
     },
     "execution_count": 9,
     "metadata": {},
     "output_type": "execute_result"
    }
   ],
   "source": [
    "X_user_all.shape, X_item_all.shape, y_all.shape "
   ]
  },
  {
   "cell_type": "markdown",
   "id": "8f1cbc23",
   "metadata": {},
   "source": [
    "## Custom Loss ##"
   ]
  },
  {
   "cell_type": "code",
   "execution_count": 10,
   "id": "329706ad",
   "metadata": {},
   "outputs": [],
   "source": [
    "def normalized_cross_entropy_loss(y_true, y_pred):\n",
    "    \"\"\"\n",
    "    Implements the loss from Equation 12.\n",
    "    y_true: actual rating in [0, MAX_RATING]\n",
    "    y_pred: predicted probability in (0,1)\n",
    "    \"\"\"\n",
    "    y_true_norm = y_true / MAX_RATING\n",
    "    \n",
    "    y_pred = K.clip(y_pred, MU, 1.0 - MU)\n",
    "\n",
    "    term_1 = y_true_norm * K.log(y_pred)\n",
    "    term_2 = (1 - y_true_norm) * K.log(1 - y_pred)\n",
    "    nce_loss = -(term_1 + term_2)\n",
    "    \n",
    "    return K.mean(nce_loss)"
   ]
  },
  {
   "cell_type": "markdown",
   "id": "a1dd9aeb",
   "metadata": {},
   "source": [
    "## Build Model"
   ]
  },
  {
   "cell_type": "code",
   "execution_count": 11,
   "id": "e612235c",
   "metadata": {},
   "outputs": [],
   "source": [
    "def DeepMF(num_users, num_items, hidden_units=[512, 256, 128]):\n",
    "    \"\"\"\n",
    "    Deep Matrix Factorization (DeepMF) — paper-faithful version.\n",
    "    Inputs:\n",
    "        - user_input: Yi* (interaction vector for user i)\n",
    "        - item_input: Y*j (interaction vector for item j)\n",
    "    Output:\n",
    "        - Predicted relevance (Ŷ_ij)\n",
    "    \"\"\"\n",
    "    \n",
    "    # user tower\n",
    "    user_input = Input(shape=(num_items,), dtype='float32', name='user_input')  # Yi*\n",
    "    u = user_input\n",
    "    for i, units in enumerate(hidden_units):\n",
    "        u = Dense(units, activation='relu', name=f'user_dense_{i+1}')(u)\n",
    "\n",
    "    # item tower\n",
    "    item_input = Input(shape=(num_users,), dtype='float32', name='item_input')  # Y*j\n",
    "    v = item_input\n",
    "    for i, units in enumerate(hidden_units):\n",
    "        v = Dense(units, activation='relu', name=f'item_dense_{i+1}')(v)\n",
    "\n",
    "    # cosine sim\n",
    "    cos = Dot(axes=1, normalize=True, name='cosine_similarity')([u, v])\n",
    "    y_pred = Lambda(lambda x: K.maximum(x, MU), name=\"Y_hat_o_Eq13\")(cos)\n",
    "\n",
    "    model = tf.keras.Model(inputs=[user_input, item_input], outputs=y_pred, name='DeepMF')\n",
    "    return model"
   ]
  },
  {
   "cell_type": "code",
   "execution_count": 12,
   "id": "e646f2d4",
   "metadata": {},
   "outputs": [],
   "source": [
    "model = DeepMF(N_USERS, N_MOVIES)"
   ]
  },
  {
   "cell_type": "code",
   "execution_count": 13,
   "id": "c1e3d31f",
   "metadata": {},
   "outputs": [],
   "source": [
    "model.compile(optimizer='adam', loss=normalized_cross_entropy_loss)"
   ]
  },
  {
   "cell_type": "code",
   "execution_count": 14,
   "id": "14dfaeab",
   "metadata": {},
   "outputs": [
    {
     "name": "stdout",
     "output_type": "stream",
     "text": [
      "Model: \"DeepMF\"\n",
      "__________________________________________________________________________________________________\n",
      " Layer (type)                Output Shape                 Param #   Connected to                  \n",
      "==================================================================================================\n",
      " user_input (InputLayer)     [(None, 1000)]               0         []                            \n",
      "                                                                                                  \n",
      " item_input (InputLayer)     [(None, 1000)]               0         []                            \n",
      "                                                                                                  \n",
      " user_dense_1 (Dense)        (None, 512)                  512512    ['user_input[0][0]']          \n",
      "                                                                                                  \n",
      " item_dense_1 (Dense)        (None, 512)                  512512    ['item_input[0][0]']          \n",
      "                                                                                                  \n",
      " user_dense_2 (Dense)        (None, 256)                  131328    ['user_dense_1[0][0]']        \n",
      "                                                                                                  \n",
      " item_dense_2 (Dense)        (None, 256)                  131328    ['item_dense_1[0][0]']        \n",
      "                                                                                                  \n",
      " user_dense_3 (Dense)        (None, 128)                  32896     ['user_dense_2[0][0]']        \n",
      "                                                                                                  \n",
      " item_dense_3 (Dense)        (None, 128)                  32896     ['item_dense_2[0][0]']        \n",
      "                                                                                                  \n",
      " cosine_similarity (Dot)     (None, 1)                    0         ['user_dense_3[0][0]',        \n",
      "                                                                     'item_dense_3[0][0]']        \n",
      "                                                                                                  \n",
      " Y_hat_o_Eq13 (Lambda)       (None, 1)                    0         ['cosine_similarity[0][0]']   \n",
      "                                                                                                  \n",
      "==================================================================================================\n",
      "Total params: 1353472 (5.16 MB)\n",
      "Trainable params: 1353472 (5.16 MB)\n",
      "Non-trainable params: 0 (0.00 Byte)\n",
      "__________________________________________________________________________________________________\n"
     ]
    }
   ],
   "source": [
    "model.summary()"
   ]
  },
  {
   "cell_type": "code",
   "execution_count": 15,
   "id": "4d7e3068",
   "metadata": {},
   "outputs": [
    {
     "name": "stdout",
     "output_type": "stream",
     "text": [
      "Epoch 1/10\n",
      "31250/31250 [==============================] - 182s 6ms/step - loss: 0.5932\n",
      "Epoch 2/10\n",
      "31250/31250 [==============================] - 175s 6ms/step - loss: 0.5757\n",
      "Epoch 3/10\n",
      "31250/31250 [==============================] - 171s 5ms/step - loss: 0.5715\n",
      "Epoch 4/10\n",
      "31250/31250 [==============================] - 175s 6ms/step - loss: 0.5695\n",
      "Epoch 5/10\n",
      "31250/31250 [==============================] - 166s 5ms/step - loss: 0.5681\n",
      "Epoch 6/10\n",
      "31250/31250 [==============================] - 172s 5ms/step - loss: 0.5670\n",
      "Epoch 7/10\n",
      "31250/31250 [==============================] - 173s 6ms/step - loss: 0.5663\n",
      "Epoch 8/10\n",
      "31250/31250 [==============================] - 169s 5ms/step - loss: 0.5657\n",
      "Epoch 9/10\n",
      "31250/31250 [==============================] - 169s 5ms/step - loss: 0.5652\n",
      "Epoch 10/10\n",
      "31250/31250 [==============================] - 173s 6ms/step - loss: 0.5647\n"
     ]
    },
    {
     "data": {
      "text/plain": [
       "<keras.src.callbacks.History at 0x1f080b61a50>"
      ]
     },
     "execution_count": 15,
     "metadata": {},
     "output_type": "execute_result"
    }
   ],
   "source": [
    "model.fit(\n",
    "    [X_user_all, X_item_all],\n",
    "    y_all,\n",
    "    batch_size=32,\n",
    "    epochs=10,\n",
    ")"
   ]
  },
  {
   "cell_type": "code",
   "execution_count": 16,
   "id": "4fc97025",
   "metadata": {},
   "outputs": [
    {
     "name": "stdout",
     "output_type": "stream",
     "text": [
      "INFO:tensorflow:Assets written to: DeepMF_model\\assets\n"
     ]
    },
    {
     "name": "stderr",
     "output_type": "stream",
     "text": [
      "INFO:tensorflow:Assets written to: DeepMF_model\\assets\n"
     ]
    }
   ],
   "source": [
    "model.save(\"DeepMF_model\")"
   ]
  },
  {
   "cell_type": "code",
   "execution_count": 20,
   "id": "f6da575c",
   "metadata": {},
   "outputs": [],
   "source": [
    "model2 = tf.keras.models.load_model(\"DeepMF_model\", custom_objects={'normalized_cross_entropy_loss': normalized_cross_entropy_loss})"
   ]
  },
  {
   "cell_type": "code",
   "execution_count": 23,
   "id": "0de8eca0",
   "metadata": {},
   "outputs": [
    {
     "name": "stdout",
     "output_type": "stream",
     "text": [
      "Epoch 1/5\n",
      "7813/7813 [==============================] - 49s 6ms/step - loss: 0.5628\n",
      "Epoch 2/5\n",
      "7813/7813 [==============================] - 49s 6ms/step - loss: 0.5627\n",
      "Epoch 3/5\n",
      "7813/7813 [==============================] - 50s 6ms/step - loss: 0.5624\n",
      "Epoch 4/5\n",
      "7813/7813 [==============================] - 47s 6ms/step - loss: 0.5623\n",
      "Epoch 5/5\n",
      "7813/7813 [==============================] - 46s 6ms/step - loss: 0.5621\n"
     ]
    }
   ],
   "source": [
    "history = model2.fit(\n",
    "    [X_user_all, X_item_all],\n",
    "    y_all,\n",
    "    batch_size=128,\n",
    "    epochs=5,\n",
    ")"
   ]
  },
  {
   "cell_type": "code",
   "execution_count": 24,
   "id": "0a81c2c5",
   "metadata": {},
   "outputs": [
    {
     "data": {
      "image/png": "[encoded data removed]",
      "text/plain": [
       "<Figure size 640x480 with 1 Axes>"
      ]
     },
     "metadata": {},
     "output_type": "display_data"
    },
    {
     "data": {
      "image/png": "[encoded data removed]",
      "text/plain": [
       "<Figure size 800x600 with 1 Axes>"
      ]
     },
     "metadata": {},
     "output_type": "display_data"
    }
   ],
   "source": [
    "loss = history.history['loss']\n",
    "plt.plot(loss)\n",
    "plt.figure(figsize=(8,6))\n",
    "plt.plot(range(1, len(loss)+1), loss, marker='o')\n",
    "plt.title(\"Training Loss over Epochs\")\n",
    "plt.xlabel(\"Epoch\")\n",
    "plt.ylabel(\"Loss\")\n",
    "plt.grid(True)\n",
    "plt.show()"
   ]
  }
 ],
 "metadata": {
  "kernelspec": {
   "display_name": "homl3",
   "language": "python",
   "name": "python3"
  },
  "language_info": {
   "codemirror_mode": {
    "name": "ipython",
    "version": 3
   },
   "file_extension": ".py",
   "mimetype": "text/x-python",
   "name": "python",
   "nbconvert_exporter": "python",
   "pygments_lexer": "ipython3",
   "version": "3.10.18"
  }
 },
 "nbformat": 4,
 "nbformat_minor": 5
}
